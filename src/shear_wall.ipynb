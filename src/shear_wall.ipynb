{
  "nbformat": 4,
  "nbformat_minor": 0,
  "metadata": {
    "colab": {
      "name": "shear_wall.ipynb",
      "provenance": [],
      "collapsed_sections": []
    },
    "kernelspec": {
      "name": "python3",
      "display_name": "Python 3"
    },
    "language_info": {
      "name": "python"
    },
    "accelerator": "GPU"
  },
  "cells": [
    {
      "cell_type": "code",
      "metadata": {
        "colab": {
          "base_uri": "https://localhost:8080/"
        },
        "id": "CFXj4NL6gdGB",
        "outputId": "c42c330e-79e3-4723-a12c-62ecd7e25775"
      },
      "source": [
        "from google.colab import drive\n",
        "drive.mount('/content/drive')"
      ],
      "execution_count": 121,
      "outputs": [
        {
          "output_type": "stream",
          "name": "stdout",
          "text": [
            "Drive already mounted at /content/drive; to attempt to forcibly remount, call drive.mount(\"/content/drive\", force_remount=True).\n"
          ]
        }
      ]
    },
    {
      "cell_type": "code",
      "metadata": {
        "colab": {
          "base_uri": "https://localhost:8080/",
          "height": 206
        },
        "id": "zSPhdTsIgOO9",
        "outputId": "a116194b-a79f-48c9-9162-e30346b8bf23"
      },
      "source": [
        "%matplotlib inline\n",
        "import pandas as pd\n",
        "import numpy as np\n",
        "import matplotlib.pyplot as plt\n",
        "from sklearn import preprocessing\n",
        "from sklearn.linear_model import LogisticRegression\n",
        "from sklearn.model_selection import train_test_split\n",
        "import seaborn as sns\n",
        "sns.set(style=\"white\")\n",
        "sns.set(style=\"whitegrid\", color_codes=True)\n",
        "\n",
        "seed = 7\n",
        "np.random.seed(seed)\n",
        "\n",
        "data1 = pd.read_excel('/content/drive/MyDrive/Major Project/New/mangalath-failure modes/Shear-Wall-Failure-Mode-master/Shear_Wall_Database.xlsx', sheet_name='Database')\n",
        "data1.head()"
      ],
      "execution_count": 122,
      "outputs": [
        {
          "output_type": "execute_result",
          "data": {
            "text/html": [
              "<div>\n",
              "<style scoped>\n",
              "    .dataframe tbody tr th:only-of-type {\n",
              "        vertical-align: middle;\n",
              "    }\n",
              "\n",
              "    .dataframe tbody tr th {\n",
              "        vertical-align: top;\n",
              "    }\n",
              "\n",
              "    .dataframe thead th {\n",
              "        text-align: right;\n",
              "    }\n",
              "</style>\n",
              "<table border=\"1\" class=\"dataframe\">\n",
              "  <thead>\n",
              "    <tr style=\"text-align: right;\">\n",
              "      <th></th>\n",
              "      <th>Unnamed: 0</th>\n",
              "      <th>Author</th>\n",
              "      <th>Specimen</th>\n",
              "      <th>FailureMode</th>\n",
              "      <th>M/Vlw</th>\n",
              "      <th>lw/tw</th>\n",
              "      <th>ρvwFy,vw/fc</th>\n",
              "      <th>ρhwFy,vw/fc</th>\n",
              "      <th>ρvcFy,vc/fc</th>\n",
              "      <th>ρhcFy,hc/fc</th>\n",
              "      <th>P/fcAg</th>\n",
              "      <th>Section</th>\n",
              "      <th>Ab/Ag</th>\n",
              "    </tr>\n",
              "  </thead>\n",
              "  <tbody>\n",
              "    <tr>\n",
              "      <th>0</th>\n",
              "      <td>1</td>\n",
              "      <td>Lefas et al. (1990a)</td>\n",
              "      <td>SW11</td>\n",
              "      <td>1</td>\n",
              "      <td>1.1</td>\n",
              "      <td>10.714286</td>\n",
              "      <td>0.268879</td>\n",
              "      <td>0.136711</td>\n",
              "      <td>0.348231</td>\n",
              "      <td>0.149140</td>\n",
              "      <td>0.000000</td>\n",
              "      <td>R</td>\n",
              "      <td>0.0</td>\n",
              "    </tr>\n",
              "    <tr>\n",
              "      <th>1</th>\n",
              "      <td>2</td>\n",
              "      <td>Lefas et al. (1990a)</td>\n",
              "      <td>SW12</td>\n",
              "      <td>1</td>\n",
              "      <td>1.1</td>\n",
              "      <td>10.714286</td>\n",
              "      <td>0.262358</td>\n",
              "      <td>0.133396</td>\n",
              "      <td>0.339785</td>\n",
              "      <td>0.145522</td>\n",
              "      <td>0.102168</td>\n",
              "      <td>R</td>\n",
              "      <td>0.0</td>\n",
              "    </tr>\n",
              "    <tr>\n",
              "      <th>2</th>\n",
              "      <td>3</td>\n",
              "      <td>Lefas et al. (1990a)</td>\n",
              "      <td>SW13</td>\n",
              "      <td>1</td>\n",
              "      <td>1.1</td>\n",
              "      <td>10.714286</td>\n",
              "      <td>0.346364</td>\n",
              "      <td>0.176108</td>\n",
              "      <td>0.448584</td>\n",
              "      <td>0.192118</td>\n",
              "      <td>0.208187</td>\n",
              "      <td>R</td>\n",
              "      <td>0.0</td>\n",
              "    </tr>\n",
              "    <tr>\n",
              "      <th>3</th>\n",
              "      <td>4</td>\n",
              "      <td>Lefas et al. (1990a)</td>\n",
              "      <td>SW14</td>\n",
              "      <td>1</td>\n",
              "      <td>1.1</td>\n",
              "      <td>10.714286</td>\n",
              "      <td>0.334023</td>\n",
              "      <td>0.169834</td>\n",
              "      <td>0.432601</td>\n",
              "      <td>0.185273</td>\n",
              "      <td>0.000000</td>\n",
              "      <td>R</td>\n",
              "      <td>0.0</td>\n",
              "    </tr>\n",
              "    <tr>\n",
              "      <th>4</th>\n",
              "      <td>5</td>\n",
              "      <td>Lefas et al. (1990a)</td>\n",
              "      <td>SW15</td>\n",
              "      <td>1</td>\n",
              "      <td>1.1</td>\n",
              "      <td>10.714286</td>\n",
              "      <td>0.324766</td>\n",
              "      <td>0.165127</td>\n",
              "      <td>0.420612</td>\n",
              "      <td>0.180139</td>\n",
              "      <td>0.101727</td>\n",
              "      <td>R</td>\n",
              "      <td>0.0</td>\n",
              "    </tr>\n",
              "  </tbody>\n",
              "</table>\n",
              "</div>"
            ],
            "text/plain": [
              "   Unnamed: 0                Author Specimen  ...    P/fcAg  Section  Ab/Ag\n",
              "0           1  Lefas et al. (1990a)     SW11  ...  0.000000        R    0.0\n",
              "1           2  Lefas et al. (1990a)     SW12  ...  0.102168        R    0.0\n",
              "2           3  Lefas et al. (1990a)     SW13  ...  0.208187        R    0.0\n",
              "3           4  Lefas et al. (1990a)     SW14  ...  0.000000        R    0.0\n",
              "4           5  Lefas et al. (1990a)     SW15  ...  0.101727        R    0.0\n",
              "\n",
              "[5 rows x 13 columns]"
            ]
          },
          "metadata": {},
          "execution_count": 122
        }
      ]
    },
    {
      "cell_type": "code",
      "metadata": {
        "colab": {
          "base_uri": "https://localhost:8080/",
          "height": 206
        },
        "id": "vqjCK66ogYiA",
        "outputId": "ae9a4a75-a99c-48ef-e487-3f407c326134"
      },
      "source": [
        "data=data1.loc[:, 'FailureMode':'Ab/Ag']\n",
        "data.head()\n"
      ],
      "execution_count": 123,
      "outputs": [
        {
          "output_type": "execute_result",
          "data": {
            "text/html": [
              "<div>\n",
              "<style scoped>\n",
              "    .dataframe tbody tr th:only-of-type {\n",
              "        vertical-align: middle;\n",
              "    }\n",
              "\n",
              "    .dataframe tbody tr th {\n",
              "        vertical-align: top;\n",
              "    }\n",
              "\n",
              "    .dataframe thead th {\n",
              "        text-align: right;\n",
              "    }\n",
              "</style>\n",
              "<table border=\"1\" class=\"dataframe\">\n",
              "  <thead>\n",
              "    <tr style=\"text-align: right;\">\n",
              "      <th></th>\n",
              "      <th>FailureMode</th>\n",
              "      <th>M/Vlw</th>\n",
              "      <th>lw/tw</th>\n",
              "      <th>ρvwFy,vw/fc</th>\n",
              "      <th>ρhwFy,vw/fc</th>\n",
              "      <th>ρvcFy,vc/fc</th>\n",
              "      <th>ρhcFy,hc/fc</th>\n",
              "      <th>P/fcAg</th>\n",
              "      <th>Section</th>\n",
              "      <th>Ab/Ag</th>\n",
              "    </tr>\n",
              "  </thead>\n",
              "  <tbody>\n",
              "    <tr>\n",
              "      <th>0</th>\n",
              "      <td>1</td>\n",
              "      <td>1.1</td>\n",
              "      <td>10.714286</td>\n",
              "      <td>0.268879</td>\n",
              "      <td>0.136711</td>\n",
              "      <td>0.348231</td>\n",
              "      <td>0.149140</td>\n",
              "      <td>0.000000</td>\n",
              "      <td>R</td>\n",
              "      <td>0.0</td>\n",
              "    </tr>\n",
              "    <tr>\n",
              "      <th>1</th>\n",
              "      <td>1</td>\n",
              "      <td>1.1</td>\n",
              "      <td>10.714286</td>\n",
              "      <td>0.262358</td>\n",
              "      <td>0.133396</td>\n",
              "      <td>0.339785</td>\n",
              "      <td>0.145522</td>\n",
              "      <td>0.102168</td>\n",
              "      <td>R</td>\n",
              "      <td>0.0</td>\n",
              "    </tr>\n",
              "    <tr>\n",
              "      <th>2</th>\n",
              "      <td>1</td>\n",
              "      <td>1.1</td>\n",
              "      <td>10.714286</td>\n",
              "      <td>0.346364</td>\n",
              "      <td>0.176108</td>\n",
              "      <td>0.448584</td>\n",
              "      <td>0.192118</td>\n",
              "      <td>0.208187</td>\n",
              "      <td>R</td>\n",
              "      <td>0.0</td>\n",
              "    </tr>\n",
              "    <tr>\n",
              "      <th>3</th>\n",
              "      <td>1</td>\n",
              "      <td>1.1</td>\n",
              "      <td>10.714286</td>\n",
              "      <td>0.334023</td>\n",
              "      <td>0.169834</td>\n",
              "      <td>0.432601</td>\n",
              "      <td>0.185273</td>\n",
              "      <td>0.000000</td>\n",
              "      <td>R</td>\n",
              "      <td>0.0</td>\n",
              "    </tr>\n",
              "    <tr>\n",
              "      <th>4</th>\n",
              "      <td>1</td>\n",
              "      <td>1.1</td>\n",
              "      <td>10.714286</td>\n",
              "      <td>0.324766</td>\n",
              "      <td>0.165127</td>\n",
              "      <td>0.420612</td>\n",
              "      <td>0.180139</td>\n",
              "      <td>0.101727</td>\n",
              "      <td>R</td>\n",
              "      <td>0.0</td>\n",
              "    </tr>\n",
              "  </tbody>\n",
              "</table>\n",
              "</div>"
            ],
            "text/plain": [
              "   FailureMode  M/Vlw      lw/tw  ...    P/fcAg  Section  Ab/Ag\n",
              "0            1    1.1  10.714286  ...  0.000000        R    0.0\n",
              "1            1    1.1  10.714286  ...  0.102168        R    0.0\n",
              "2            1    1.1  10.714286  ...  0.208187        R    0.0\n",
              "3            1    1.1  10.714286  ...  0.000000        R    0.0\n",
              "4            1    1.1  10.714286  ...  0.101727        R    0.0\n",
              "\n",
              "[5 rows x 10 columns]"
            ]
          },
          "metadata": {},
          "execution_count": 123
        }
      ]
    },
    {
      "cell_type": "code",
      "metadata": {
        "colab": {
          "base_uri": "https://localhost:8080/",
          "height": 363
        },
        "id": "NWHM6uxrhbSk",
        "outputId": "bae745b2-2cc9-4838-a5ff-f79c6f430344"
      },
      "source": [
        "\n",
        "data_mod_lc = data.copy()\n",
        "data_mod_lc['Section'] = data_mod_lc['Section'].astype('category')\n",
        "#print(cat_bird_lc.dtypes)\n",
        "data_mod_lc['Section'] = data_mod_lc['Section'].cat.codes\n",
        "data_mod_lc.head(10)\n"
      ],
      "execution_count": 124,
      "outputs": [
        {
          "output_type": "execute_result",
          "data": {
            "text/html": [
              "<div>\n",
              "<style scoped>\n",
              "    .dataframe tbody tr th:only-of-type {\n",
              "        vertical-align: middle;\n",
              "    }\n",
              "\n",
              "    .dataframe tbody tr th {\n",
              "        vertical-align: top;\n",
              "    }\n",
              "\n",
              "    .dataframe thead th {\n",
              "        text-align: right;\n",
              "    }\n",
              "</style>\n",
              "<table border=\"1\" class=\"dataframe\">\n",
              "  <thead>\n",
              "    <tr style=\"text-align: right;\">\n",
              "      <th></th>\n",
              "      <th>FailureMode</th>\n",
              "      <th>M/Vlw</th>\n",
              "      <th>lw/tw</th>\n",
              "      <th>ρvwFy,vw/fc</th>\n",
              "      <th>ρhwFy,vw/fc</th>\n",
              "      <th>ρvcFy,vc/fc</th>\n",
              "      <th>ρhcFy,hc/fc</th>\n",
              "      <th>P/fcAg</th>\n",
              "      <th>Section</th>\n",
              "      <th>Ab/Ag</th>\n",
              "    </tr>\n",
              "  </thead>\n",
              "  <tbody>\n",
              "    <tr>\n",
              "      <th>0</th>\n",
              "      <td>1</td>\n",
              "      <td>1.100000</td>\n",
              "      <td>10.714286</td>\n",
              "      <td>0.268879</td>\n",
              "      <td>0.136711</td>\n",
              "      <td>0.348231</td>\n",
              "      <td>0.149140</td>\n",
              "      <td>0.000000</td>\n",
              "      <td>2</td>\n",
              "      <td>0.0</td>\n",
              "    </tr>\n",
              "    <tr>\n",
              "      <th>1</th>\n",
              "      <td>1</td>\n",
              "      <td>1.100000</td>\n",
              "      <td>10.714286</td>\n",
              "      <td>0.262358</td>\n",
              "      <td>0.133396</td>\n",
              "      <td>0.339785</td>\n",
              "      <td>0.145522</td>\n",
              "      <td>0.102168</td>\n",
              "      <td>2</td>\n",
              "      <td>0.0</td>\n",
              "    </tr>\n",
              "    <tr>\n",
              "      <th>2</th>\n",
              "      <td>1</td>\n",
              "      <td>1.100000</td>\n",
              "      <td>10.714286</td>\n",
              "      <td>0.346364</td>\n",
              "      <td>0.176108</td>\n",
              "      <td>0.448584</td>\n",
              "      <td>0.192118</td>\n",
              "      <td>0.208187</td>\n",
              "      <td>2</td>\n",
              "      <td>0.0</td>\n",
              "    </tr>\n",
              "    <tr>\n",
              "      <th>3</th>\n",
              "      <td>1</td>\n",
              "      <td>1.100000</td>\n",
              "      <td>10.714286</td>\n",
              "      <td>0.334023</td>\n",
              "      <td>0.169834</td>\n",
              "      <td>0.432601</td>\n",
              "      <td>0.185273</td>\n",
              "      <td>0.000000</td>\n",
              "      <td>2</td>\n",
              "      <td>0.0</td>\n",
              "    </tr>\n",
              "    <tr>\n",
              "      <th>4</th>\n",
              "      <td>1</td>\n",
              "      <td>1.100000</td>\n",
              "      <td>10.714286</td>\n",
              "      <td>0.324766</td>\n",
              "      <td>0.165127</td>\n",
              "      <td>0.420612</td>\n",
              "      <td>0.180139</td>\n",
              "      <td>0.101727</td>\n",
              "      <td>2</td>\n",
              "      <td>0.0</td>\n",
              "    </tr>\n",
              "    <tr>\n",
              "      <th>5</th>\n",
              "      <td>1</td>\n",
              "      <td>1.100000</td>\n",
              "      <td>10.714286</td>\n",
              "      <td>0.271999</td>\n",
              "      <td>0.138298</td>\n",
              "      <td>0.352273</td>\n",
              "      <td>0.150870</td>\n",
              "      <td>0.211845</td>\n",
              "      <td>2</td>\n",
              "      <td>0.0</td>\n",
              "    </tr>\n",
              "    <tr>\n",
              "      <th>6</th>\n",
              "      <td>1</td>\n",
              "      <td>1.100000</td>\n",
              "      <td>10.714286</td>\n",
              "      <td>0.291146</td>\n",
              "      <td>0.049793</td>\n",
              "      <td>0.401398</td>\n",
              "      <td>0.161491</td>\n",
              "      <td>0.000000</td>\n",
              "      <td>2</td>\n",
              "      <td>0.0</td>\n",
              "    </tr>\n",
              "    <tr>\n",
              "      <th>7</th>\n",
              "      <td>1</td>\n",
              "      <td>2.115385</td>\n",
              "      <td>10.000000</td>\n",
              "      <td>0.342420</td>\n",
              "      <td>0.121495</td>\n",
              "      <td>0.452979</td>\n",
              "      <td>0.136682</td>\n",
              "      <td>0.000000</td>\n",
              "      <td>2</td>\n",
              "      <td>0.0</td>\n",
              "    </tr>\n",
              "    <tr>\n",
              "      <th>8</th>\n",
              "      <td>1</td>\n",
              "      <td>2.115385</td>\n",
              "      <td>10.000000</td>\n",
              "      <td>0.290267</td>\n",
              "      <td>0.102767</td>\n",
              "      <td>0.383152</td>\n",
              "      <td>0.115613</td>\n",
              "      <td>0.106415</td>\n",
              "      <td>2</td>\n",
              "      <td>0.0</td>\n",
              "    </tr>\n",
              "    <tr>\n",
              "      <th>9</th>\n",
              "      <td>1</td>\n",
              "      <td>2.115385</td>\n",
              "      <td>10.000000</td>\n",
              "      <td>0.307270</td>\n",
              "      <td>0.108787</td>\n",
              "      <td>0.405596</td>\n",
              "      <td>0.122385</td>\n",
              "      <td>0.212300</td>\n",
              "      <td>2</td>\n",
              "      <td>0.0</td>\n",
              "    </tr>\n",
              "  </tbody>\n",
              "</table>\n",
              "</div>"
            ],
            "text/plain": [
              "   FailureMode     M/Vlw      lw/tw  ...    P/fcAg  Section  Ab/Ag\n",
              "0            1  1.100000  10.714286  ...  0.000000        2    0.0\n",
              "1            1  1.100000  10.714286  ...  0.102168        2    0.0\n",
              "2            1  1.100000  10.714286  ...  0.208187        2    0.0\n",
              "3            1  1.100000  10.714286  ...  0.000000        2    0.0\n",
              "4            1  1.100000  10.714286  ...  0.101727        2    0.0\n",
              "5            1  1.100000  10.714286  ...  0.211845        2    0.0\n",
              "6            1  1.100000  10.714286  ...  0.000000        2    0.0\n",
              "7            1  2.115385  10.000000  ...  0.000000        2    0.0\n",
              "8            1  2.115385  10.000000  ...  0.106415        2    0.0\n",
              "9            1  2.115385  10.000000  ...  0.212300        2    0.0\n",
              "\n",
              "[10 rows x 10 columns]"
            ]
          },
          "metadata": {},
          "execution_count": 124
        }
      ]
    },
    {
      "cell_type": "code",
      "metadata": {
        "colab": {
          "base_uri": "https://localhost:8080/",
          "height": 206
        },
        "id": "WgaLo5RXhhRj",
        "outputId": "9bcf4065-b8a5-478f-95c4-feaeac146fdf"
      },
      "source": [
        "data['Section'] = data_mod_lc['Section']\n",
        "data.head()"
      ],
      "execution_count": 125,
      "outputs": [
        {
          "output_type": "execute_result",
          "data": {
            "text/html": [
              "<div>\n",
              "<style scoped>\n",
              "    .dataframe tbody tr th:only-of-type {\n",
              "        vertical-align: middle;\n",
              "    }\n",
              "\n",
              "    .dataframe tbody tr th {\n",
              "        vertical-align: top;\n",
              "    }\n",
              "\n",
              "    .dataframe thead th {\n",
              "        text-align: right;\n",
              "    }\n",
              "</style>\n",
              "<table border=\"1\" class=\"dataframe\">\n",
              "  <thead>\n",
              "    <tr style=\"text-align: right;\">\n",
              "      <th></th>\n",
              "      <th>FailureMode</th>\n",
              "      <th>M/Vlw</th>\n",
              "      <th>lw/tw</th>\n",
              "      <th>ρvwFy,vw/fc</th>\n",
              "      <th>ρhwFy,vw/fc</th>\n",
              "      <th>ρvcFy,vc/fc</th>\n",
              "      <th>ρhcFy,hc/fc</th>\n",
              "      <th>P/fcAg</th>\n",
              "      <th>Section</th>\n",
              "      <th>Ab/Ag</th>\n",
              "    </tr>\n",
              "  </thead>\n",
              "  <tbody>\n",
              "    <tr>\n",
              "      <th>0</th>\n",
              "      <td>1</td>\n",
              "      <td>1.1</td>\n",
              "      <td>10.714286</td>\n",
              "      <td>0.268879</td>\n",
              "      <td>0.136711</td>\n",
              "      <td>0.348231</td>\n",
              "      <td>0.149140</td>\n",
              "      <td>0.000000</td>\n",
              "      <td>2</td>\n",
              "      <td>0.0</td>\n",
              "    </tr>\n",
              "    <tr>\n",
              "      <th>1</th>\n",
              "      <td>1</td>\n",
              "      <td>1.1</td>\n",
              "      <td>10.714286</td>\n",
              "      <td>0.262358</td>\n",
              "      <td>0.133396</td>\n",
              "      <td>0.339785</td>\n",
              "      <td>0.145522</td>\n",
              "      <td>0.102168</td>\n",
              "      <td>2</td>\n",
              "      <td>0.0</td>\n",
              "    </tr>\n",
              "    <tr>\n",
              "      <th>2</th>\n",
              "      <td>1</td>\n",
              "      <td>1.1</td>\n",
              "      <td>10.714286</td>\n",
              "      <td>0.346364</td>\n",
              "      <td>0.176108</td>\n",
              "      <td>0.448584</td>\n",
              "      <td>0.192118</td>\n",
              "      <td>0.208187</td>\n",
              "      <td>2</td>\n",
              "      <td>0.0</td>\n",
              "    </tr>\n",
              "    <tr>\n",
              "      <th>3</th>\n",
              "      <td>1</td>\n",
              "      <td>1.1</td>\n",
              "      <td>10.714286</td>\n",
              "      <td>0.334023</td>\n",
              "      <td>0.169834</td>\n",
              "      <td>0.432601</td>\n",
              "      <td>0.185273</td>\n",
              "      <td>0.000000</td>\n",
              "      <td>2</td>\n",
              "      <td>0.0</td>\n",
              "    </tr>\n",
              "    <tr>\n",
              "      <th>4</th>\n",
              "      <td>1</td>\n",
              "      <td>1.1</td>\n",
              "      <td>10.714286</td>\n",
              "      <td>0.324766</td>\n",
              "      <td>0.165127</td>\n",
              "      <td>0.420612</td>\n",
              "      <td>0.180139</td>\n",
              "      <td>0.101727</td>\n",
              "      <td>2</td>\n",
              "      <td>0.0</td>\n",
              "    </tr>\n",
              "  </tbody>\n",
              "</table>\n",
              "</div>"
            ],
            "text/plain": [
              "   FailureMode  M/Vlw      lw/tw  ...    P/fcAg  Section  Ab/Ag\n",
              "0            1    1.1  10.714286  ...  0.000000        2    0.0\n",
              "1            1    1.1  10.714286  ...  0.102168        2    0.0\n",
              "2            1    1.1  10.714286  ...  0.208187        2    0.0\n",
              "3            1    1.1  10.714286  ...  0.000000        2    0.0\n",
              "4            1    1.1  10.714286  ...  0.101727        2    0.0\n",
              "\n",
              "[5 rows x 10 columns]"
            ]
          },
          "metadata": {},
          "execution_count": 125
        }
      ]
    },
    {
      "cell_type": "code",
      "metadata": {
        "colab": {
          "base_uri": "https://localhost:8080/"
        },
        "id": "lmqgzOHphoNI",
        "outputId": "89f19b6f-e887-46de-abdf-3bc3059e3be7"
      },
      "source": [
        "\n",
        "c = data_mod_lc.Section.astype('category')\n",
        "d = dict(enumerate(c.cat.categories))\n",
        "print (d)"
      ],
      "execution_count": 126,
      "outputs": [
        {
          "output_type": "stream",
          "name": "stdout",
          "text": [
            "{0: 0, 1: 1, 2: 2}\n"
          ]
        }
      ]
    },
    {
      "cell_type": "code",
      "metadata": {
        "id": "ZLP2kkH-hsuN",
        "colab": {
          "base_uri": "https://localhost:8080/"
        },
        "outputId": "82a6f78f-d593-4653-ce79-dc75f22a0e02"
      },
      "source": [
        "#checking missing values by column\n",
        "data.isnull().sum()"
      ],
      "execution_count": 127,
      "outputs": [
        {
          "output_type": "execute_result",
          "data": {
            "text/plain": [
              "FailureMode    0\n",
              "M/Vlw          0\n",
              "lw/tw          0\n",
              "ρvwFy,vw/fc    0\n",
              "ρhwFy,vw/fc    0\n",
              "ρvcFy,vc/fc    0\n",
              "ρhcFy,hc/fc    0\n",
              "P/fcAg         0\n",
              "Section        0\n",
              "Ab/Ag          0\n",
              "dtype: int64"
            ]
          },
          "metadata": {},
          "execution_count": 127
        }
      ]
    },
    {
      "cell_type": "code",
      "metadata": {
        "id": "lJKwwESOhxEZ",
        "colab": {
          "base_uri": "https://localhost:8080/",
          "height": 206
        },
        "outputId": "65026c85-4b44-4355-be33-9d712f9fd36d"
      },
      "source": [
        "#One Hot Encoding for the categorical values\n",
        "data = pd.get_dummies(data = data , columns=['Section'] )\n",
        "data.head()"
      ],
      "execution_count": 128,
      "outputs": [
        {
          "output_type": "execute_result",
          "data": {
            "text/html": [
              "<div>\n",
              "<style scoped>\n",
              "    .dataframe tbody tr th:only-of-type {\n",
              "        vertical-align: middle;\n",
              "    }\n",
              "\n",
              "    .dataframe tbody tr th {\n",
              "        vertical-align: top;\n",
              "    }\n",
              "\n",
              "    .dataframe thead th {\n",
              "        text-align: right;\n",
              "    }\n",
              "</style>\n",
              "<table border=\"1\" class=\"dataframe\">\n",
              "  <thead>\n",
              "    <tr style=\"text-align: right;\">\n",
              "      <th></th>\n",
              "      <th>FailureMode</th>\n",
              "      <th>M/Vlw</th>\n",
              "      <th>lw/tw</th>\n",
              "      <th>ρvwFy,vw/fc</th>\n",
              "      <th>ρhwFy,vw/fc</th>\n",
              "      <th>ρvcFy,vc/fc</th>\n",
              "      <th>ρhcFy,hc/fc</th>\n",
              "      <th>P/fcAg</th>\n",
              "      <th>Ab/Ag</th>\n",
              "      <th>Section_0</th>\n",
              "      <th>Section_1</th>\n",
              "      <th>Section_2</th>\n",
              "    </tr>\n",
              "  </thead>\n",
              "  <tbody>\n",
              "    <tr>\n",
              "      <th>0</th>\n",
              "      <td>1</td>\n",
              "      <td>1.1</td>\n",
              "      <td>10.714286</td>\n",
              "      <td>0.268879</td>\n",
              "      <td>0.136711</td>\n",
              "      <td>0.348231</td>\n",
              "      <td>0.149140</td>\n",
              "      <td>0.000000</td>\n",
              "      <td>0.0</td>\n",
              "      <td>0</td>\n",
              "      <td>0</td>\n",
              "      <td>1</td>\n",
              "    </tr>\n",
              "    <tr>\n",
              "      <th>1</th>\n",
              "      <td>1</td>\n",
              "      <td>1.1</td>\n",
              "      <td>10.714286</td>\n",
              "      <td>0.262358</td>\n",
              "      <td>0.133396</td>\n",
              "      <td>0.339785</td>\n",
              "      <td>0.145522</td>\n",
              "      <td>0.102168</td>\n",
              "      <td>0.0</td>\n",
              "      <td>0</td>\n",
              "      <td>0</td>\n",
              "      <td>1</td>\n",
              "    </tr>\n",
              "    <tr>\n",
              "      <th>2</th>\n",
              "      <td>1</td>\n",
              "      <td>1.1</td>\n",
              "      <td>10.714286</td>\n",
              "      <td>0.346364</td>\n",
              "      <td>0.176108</td>\n",
              "      <td>0.448584</td>\n",
              "      <td>0.192118</td>\n",
              "      <td>0.208187</td>\n",
              "      <td>0.0</td>\n",
              "      <td>0</td>\n",
              "      <td>0</td>\n",
              "      <td>1</td>\n",
              "    </tr>\n",
              "    <tr>\n",
              "      <th>3</th>\n",
              "      <td>1</td>\n",
              "      <td>1.1</td>\n",
              "      <td>10.714286</td>\n",
              "      <td>0.334023</td>\n",
              "      <td>0.169834</td>\n",
              "      <td>0.432601</td>\n",
              "      <td>0.185273</td>\n",
              "      <td>0.000000</td>\n",
              "      <td>0.0</td>\n",
              "      <td>0</td>\n",
              "      <td>0</td>\n",
              "      <td>1</td>\n",
              "    </tr>\n",
              "    <tr>\n",
              "      <th>4</th>\n",
              "      <td>1</td>\n",
              "      <td>1.1</td>\n",
              "      <td>10.714286</td>\n",
              "      <td>0.324766</td>\n",
              "      <td>0.165127</td>\n",
              "      <td>0.420612</td>\n",
              "      <td>0.180139</td>\n",
              "      <td>0.101727</td>\n",
              "      <td>0.0</td>\n",
              "      <td>0</td>\n",
              "      <td>0</td>\n",
              "      <td>1</td>\n",
              "    </tr>\n",
              "  </tbody>\n",
              "</table>\n",
              "</div>"
            ],
            "text/plain": [
              "   FailureMode  M/Vlw      lw/tw  ...  Section_0  Section_1  Section_2\n",
              "0            1    1.1  10.714286  ...          0          0          1\n",
              "1            1    1.1  10.714286  ...          0          0          1\n",
              "2            1    1.1  10.714286  ...          0          0          1\n",
              "3            1    1.1  10.714286  ...          0          0          1\n",
              "4            1    1.1  10.714286  ...          0          0          1\n",
              "\n",
              "[5 rows x 12 columns]"
            ]
          },
          "metadata": {},
          "execution_count": 128
        }
      ]
    },
    {
      "cell_type": "code",
      "metadata": {
        "id": "l9jeFWcDiC4l",
        "colab": {
          "base_uri": "https://localhost:8080/"
        },
        "outputId": "d5aac37b-be90-4ef6-b214-e1604959019f"
      },
      "source": [
        "X = data.loc[:, data.columns != 'FailureMode']\n",
        "y=data['FailureMode']-1\n",
        "y.head()"
      ],
      "execution_count": 129,
      "outputs": [
        {
          "output_type": "execute_result",
          "data": {
            "text/plain": [
              "0    0\n",
              "1    0\n",
              "2    0\n",
              "3    0\n",
              "4    0\n",
              "Name: FailureMode, dtype: int64"
            ]
          },
          "metadata": {},
          "execution_count": 129
        }
      ]
    },
    {
      "cell_type": "code",
      "metadata": {
        "id": "UJrWd_xziG2q",
        "colab": {
          "base_uri": "https://localhost:8080/",
          "height": 206
        },
        "outputId": "adc9d5d3-5fff-4665-d8ea-5d27cb34c95d"
      },
      "source": [
        "X.head()"
      ],
      "execution_count": 130,
      "outputs": [
        {
          "output_type": "execute_result",
          "data": {
            "text/html": [
              "<div>\n",
              "<style scoped>\n",
              "    .dataframe tbody tr th:only-of-type {\n",
              "        vertical-align: middle;\n",
              "    }\n",
              "\n",
              "    .dataframe tbody tr th {\n",
              "        vertical-align: top;\n",
              "    }\n",
              "\n",
              "    .dataframe thead th {\n",
              "        text-align: right;\n",
              "    }\n",
              "</style>\n",
              "<table border=\"1\" class=\"dataframe\">\n",
              "  <thead>\n",
              "    <tr style=\"text-align: right;\">\n",
              "      <th></th>\n",
              "      <th>M/Vlw</th>\n",
              "      <th>lw/tw</th>\n",
              "      <th>ρvwFy,vw/fc</th>\n",
              "      <th>ρhwFy,vw/fc</th>\n",
              "      <th>ρvcFy,vc/fc</th>\n",
              "      <th>ρhcFy,hc/fc</th>\n",
              "      <th>P/fcAg</th>\n",
              "      <th>Ab/Ag</th>\n",
              "      <th>Section_0</th>\n",
              "      <th>Section_1</th>\n",
              "      <th>Section_2</th>\n",
              "    </tr>\n",
              "  </thead>\n",
              "  <tbody>\n",
              "    <tr>\n",
              "      <th>0</th>\n",
              "      <td>1.1</td>\n",
              "      <td>10.714286</td>\n",
              "      <td>0.268879</td>\n",
              "      <td>0.136711</td>\n",
              "      <td>0.348231</td>\n",
              "      <td>0.149140</td>\n",
              "      <td>0.000000</td>\n",
              "      <td>0.0</td>\n",
              "      <td>0</td>\n",
              "      <td>0</td>\n",
              "      <td>1</td>\n",
              "    </tr>\n",
              "    <tr>\n",
              "      <th>1</th>\n",
              "      <td>1.1</td>\n",
              "      <td>10.714286</td>\n",
              "      <td>0.262358</td>\n",
              "      <td>0.133396</td>\n",
              "      <td>0.339785</td>\n",
              "      <td>0.145522</td>\n",
              "      <td>0.102168</td>\n",
              "      <td>0.0</td>\n",
              "      <td>0</td>\n",
              "      <td>0</td>\n",
              "      <td>1</td>\n",
              "    </tr>\n",
              "    <tr>\n",
              "      <th>2</th>\n",
              "      <td>1.1</td>\n",
              "      <td>10.714286</td>\n",
              "      <td>0.346364</td>\n",
              "      <td>0.176108</td>\n",
              "      <td>0.448584</td>\n",
              "      <td>0.192118</td>\n",
              "      <td>0.208187</td>\n",
              "      <td>0.0</td>\n",
              "      <td>0</td>\n",
              "      <td>0</td>\n",
              "      <td>1</td>\n",
              "    </tr>\n",
              "    <tr>\n",
              "      <th>3</th>\n",
              "      <td>1.1</td>\n",
              "      <td>10.714286</td>\n",
              "      <td>0.334023</td>\n",
              "      <td>0.169834</td>\n",
              "      <td>0.432601</td>\n",
              "      <td>0.185273</td>\n",
              "      <td>0.000000</td>\n",
              "      <td>0.0</td>\n",
              "      <td>0</td>\n",
              "      <td>0</td>\n",
              "      <td>1</td>\n",
              "    </tr>\n",
              "    <tr>\n",
              "      <th>4</th>\n",
              "      <td>1.1</td>\n",
              "      <td>10.714286</td>\n",
              "      <td>0.324766</td>\n",
              "      <td>0.165127</td>\n",
              "      <td>0.420612</td>\n",
              "      <td>0.180139</td>\n",
              "      <td>0.101727</td>\n",
              "      <td>0.0</td>\n",
              "      <td>0</td>\n",
              "      <td>0</td>\n",
              "      <td>1</td>\n",
              "    </tr>\n",
              "  </tbody>\n",
              "</table>\n",
              "</div>"
            ],
            "text/plain": [
              "   M/Vlw      lw/tw  ρvwFy,vw/fc  ...  Section_0  Section_1  Section_2\n",
              "0    1.1  10.714286     0.268879  ...          0          0          1\n",
              "1    1.1  10.714286     0.262358  ...          0          0          1\n",
              "2    1.1  10.714286     0.346364  ...          0          0          1\n",
              "3    1.1  10.714286     0.334023  ...          0          0          1\n",
              "4    1.1  10.714286     0.324766  ...          0          0          1\n",
              "\n",
              "[5 rows x 11 columns]"
            ]
          },
          "metadata": {},
          "execution_count": 130
        }
      ]
    },
    {
      "cell_type": "code",
      "metadata": {
        "id": "oYFVOjvNiL2Z"
      },
      "source": [
        "from sklearn.model_selection import train_test_split\n",
        "\n",
        "X_train, X_test, y_train, y_test = train_test_split(X, y, test_size=0.3, random_state=0)\n",
        "\n",
        "from sklearn.preprocessing import MinMaxScaler\n",
        "scaler = MinMaxScaler()\n",
        "X_train = scaler.fit_transform(X_train)\n",
        "X_test = scaler.transform(X_test)"
      ],
      "execution_count": 131,
      "outputs": []
    },
    {
      "cell_type": "code",
      "metadata": {
        "colab": {
          "base_uri": "https://localhost:8080/"
        },
        "id": "_9zuInWbjsej",
        "outputId": "e97607fc-d515-4c7c-cf54-f0ec681ab7d0"
      },
      "source": [
        "X_train.shape"
      ],
      "execution_count": 132,
      "outputs": [
        {
          "output_type": "execute_result",
          "data": {
            "text/plain": [
              "(275, 11)"
            ]
          },
          "metadata": {},
          "execution_count": 132
        }
      ]
    },
    {
      "cell_type": "code",
      "metadata": {
        "id": "tjzl4pJKiVN1"
      },
      "source": [
        "import tensorflow as tf\n",
        "from tensorflow.keras import datasets, layers, models\n",
        "import matplotlib.pyplot as plt\n",
        "import numpy as np\n",
        "import seaborn as sns\n",
        "from sklearn.metrics import confusion_matrix \n"
      ],
      "execution_count": 133,
      "outputs": []
    },
    {
      "cell_type": "code",
      "metadata": {
        "id": "JSW7yrQ90V-R"
      },
      "source": [
        "ACCURACY_THRESHOLD = 0.95\n",
        "\n"
      ],
      "execution_count": 134,
      "outputs": []
    },
    {
      "cell_type": "code",
      "metadata": {
        "colab": {
          "base_uri": "https://localhost:8080/"
        },
        "id": "AZSGqEQIFFr3",
        "outputId": "d16162a3-9f8f-49b6-d811-faea917dc498"
      },
      "source": [
        "\n",
        "ann = models.Sequential([\n",
        "        layers.Dense(64,input_shape=(11,),activation='relu'),\n",
        "        layers.Dense(64, activation='relu'),\n",
        "        layers.Dense(64, activation='relu'),\n",
        "        layers.Dense(4, activation='softmax')    \n",
        "    ])\n",
        "\n",
        "ann.summary()"
      ],
      "execution_count": 135,
      "outputs": [
        {
          "output_type": "stream",
          "name": "stdout",
          "text": [
            "Model: \"sequential_6\"\n",
            "_________________________________________________________________\n",
            " Layer (type)                Output Shape              Param #   \n",
            "=================================================================\n",
            " dense_24 (Dense)            (None, 64)                768       \n",
            "                                                                 \n",
            " dense_25 (Dense)            (None, 64)                4160      \n",
            "                                                                 \n",
            " dense_26 (Dense)            (None, 64)                4160      \n",
            "                                                                 \n",
            " dense_27 (Dense)            (None, 4)                 260       \n",
            "                                                                 \n",
            "=================================================================\n",
            "Total params: 9,348\n",
            "Trainable params: 9,348\n",
            "Non-trainable params: 0\n",
            "_________________________________________________________________\n"
          ]
        }
      ]
    },
    {
      "cell_type": "code",
      "metadata": {
        "colab": {
          "base_uri": "https://localhost:8080/"
        },
        "id": "fo4PAtPoiuSf",
        "outputId": "675487cc-4098-405d-9250-a6a43871d4c2"
      },
      "source": [
        "ann.compile(optimizer='adam',\n",
        "              loss='sparse_categorical_crossentropy',\n",
        "              metrics=['accuracy'])\n",
        "\n",
        "history=ann.fit(X_train, y_train,validation_data=(X_test,y_test),epochs=60) #,callbacks=[callbacks])"
      ],
      "execution_count": 136,
      "outputs": [
        {
          "output_type": "stream",
          "name": "stdout",
          "text": [
            "Epoch 1/60\n",
            "9/9 [==============================] - 1s 29ms/step - loss: 1.3880 - accuracy: 0.2364 - val_loss: 1.3216 - val_accuracy: 0.5000\n",
            "Epoch 2/60\n",
            "9/9 [==============================] - 0s 9ms/step - loss: 1.2916 - accuracy: 0.5745 - val_loss: 1.2234 - val_accuracy: 0.6102\n",
            "Epoch 3/60\n",
            "9/9 [==============================] - 0s 8ms/step - loss: 1.2125 - accuracy: 0.5709 - val_loss: 1.1233 - val_accuracy: 0.6186\n",
            "Epoch 4/60\n",
            "9/9 [==============================] - 0s 9ms/step - loss: 1.1415 - accuracy: 0.5564 - val_loss: 1.0288 - val_accuracy: 0.6186\n",
            "Epoch 5/60\n",
            "9/9 [==============================] - 0s 9ms/step - loss: 1.0793 - accuracy: 0.5527 - val_loss: 0.9514 - val_accuracy: 0.6186\n",
            "Epoch 6/60\n",
            "9/9 [==============================] - 0s 14ms/step - loss: 1.0331 - accuracy: 0.5782 - val_loss: 0.9009 - val_accuracy: 0.6186\n",
            "Epoch 7/60\n",
            "9/9 [==============================] - 0s 11ms/step - loss: 0.9953 - accuracy: 0.5855 - val_loss: 0.8692 - val_accuracy: 0.6186\n",
            "Epoch 8/60\n",
            "9/9 [==============================] - 0s 9ms/step - loss: 0.9602 - accuracy: 0.5927 - val_loss: 0.8345 - val_accuracy: 0.6441\n",
            "Epoch 9/60\n",
            "9/9 [==============================] - 0s 8ms/step - loss: 0.9339 - accuracy: 0.6218 - val_loss: 0.8106 - val_accuracy: 0.7288\n",
            "Epoch 10/60\n",
            "9/9 [==============================] - 0s 8ms/step - loss: 0.9073 - accuracy: 0.6364 - val_loss: 0.7992 - val_accuracy: 0.6949\n",
            "Epoch 11/60\n",
            "9/9 [==============================] - 0s 9ms/step - loss: 0.8791 - accuracy: 0.6509 - val_loss: 0.7745 - val_accuracy: 0.7373\n",
            "Epoch 12/60\n",
            "9/9 [==============================] - 0s 8ms/step - loss: 0.8488 - accuracy: 0.6873 - val_loss: 0.7629 - val_accuracy: 0.7288\n",
            "Epoch 13/60\n",
            "9/9 [==============================] - 0s 8ms/step - loss: 0.8374 - accuracy: 0.6655 - val_loss: 0.7332 - val_accuracy: 0.7458\n",
            "Epoch 14/60\n",
            "9/9 [==============================] - 0s 9ms/step - loss: 0.8110 - accuracy: 0.6800 - val_loss: 0.7311 - val_accuracy: 0.7203\n",
            "Epoch 15/60\n",
            "9/9 [==============================] - 0s 8ms/step - loss: 0.7873 - accuracy: 0.6691 - val_loss: 0.7093 - val_accuracy: 0.7203\n",
            "Epoch 16/60\n",
            "9/9 [==============================] - 0s 9ms/step - loss: 0.7760 - accuracy: 0.6836 - val_loss: 0.7052 - val_accuracy: 0.7288\n",
            "Epoch 17/60\n",
            "9/9 [==============================] - 0s 9ms/step - loss: 0.7695 - accuracy: 0.6873 - val_loss: 0.6957 - val_accuracy: 0.7458\n",
            "Epoch 18/60\n",
            "9/9 [==============================] - 0s 10ms/step - loss: 0.7488 - accuracy: 0.6945 - val_loss: 0.6804 - val_accuracy: 0.7373\n",
            "Epoch 19/60\n",
            "9/9 [==============================] - 0s 11ms/step - loss: 0.7393 - accuracy: 0.7018 - val_loss: 0.6795 - val_accuracy: 0.7458\n",
            "Epoch 20/60\n",
            "9/9 [==============================] - 0s 8ms/step - loss: 0.7296 - accuracy: 0.6800 - val_loss: 0.6593 - val_accuracy: 0.7458\n",
            "Epoch 21/60\n",
            "9/9 [==============================] - 0s 9ms/step - loss: 0.7234 - accuracy: 0.6909 - val_loss: 0.6489 - val_accuracy: 0.7542\n",
            "Epoch 22/60\n",
            "9/9 [==============================] - 0s 8ms/step - loss: 0.7175 - accuracy: 0.6982 - val_loss: 0.6512 - val_accuracy: 0.7627\n",
            "Epoch 23/60\n",
            "9/9 [==============================] - 0s 9ms/step - loss: 0.7134 - accuracy: 0.6945 - val_loss: 0.6501 - val_accuracy: 0.7458\n",
            "Epoch 24/60\n",
            "9/9 [==============================] - 0s 8ms/step - loss: 0.6986 - accuracy: 0.7164 - val_loss: 0.6322 - val_accuracy: 0.7542\n",
            "Epoch 25/60\n",
            "9/9 [==============================] - 0s 8ms/step - loss: 0.6967 - accuracy: 0.7055 - val_loss: 0.6336 - val_accuracy: 0.7712\n",
            "Epoch 26/60\n",
            "9/9 [==============================] - 0s 8ms/step - loss: 0.6997 - accuracy: 0.6982 - val_loss: 0.6344 - val_accuracy: 0.7797\n",
            "Epoch 27/60\n",
            "9/9 [==============================] - 0s 10ms/step - loss: 0.6838 - accuracy: 0.7127 - val_loss: 0.6173 - val_accuracy: 0.7627\n",
            "Epoch 28/60\n",
            "9/9 [==============================] - 0s 8ms/step - loss: 0.6668 - accuracy: 0.7273 - val_loss: 0.6223 - val_accuracy: 0.7712\n",
            "Epoch 29/60\n",
            "9/9 [==============================] - 0s 8ms/step - loss: 0.6765 - accuracy: 0.7091 - val_loss: 0.6111 - val_accuracy: 0.7881\n",
            "Epoch 30/60\n",
            "9/9 [==============================] - 0s 9ms/step - loss: 0.6835 - accuracy: 0.7164 - val_loss: 0.6075 - val_accuracy: 0.7881\n",
            "Epoch 31/60\n",
            "9/9 [==============================] - 0s 10ms/step - loss: 0.6556 - accuracy: 0.7127 - val_loss: 0.6079 - val_accuracy: 0.7712\n",
            "Epoch 32/60\n",
            "9/9 [==============================] - 0s 9ms/step - loss: 0.6510 - accuracy: 0.7382 - val_loss: 0.5961 - val_accuracy: 0.8051\n",
            "Epoch 33/60\n",
            "9/9 [==============================] - 0s 9ms/step - loss: 0.6384 - accuracy: 0.7418 - val_loss: 0.5982 - val_accuracy: 0.7881\n",
            "Epoch 34/60\n",
            "9/9 [==============================] - 0s 8ms/step - loss: 0.6348 - accuracy: 0.7309 - val_loss: 0.5874 - val_accuracy: 0.8051\n",
            "Epoch 35/60\n",
            "9/9 [==============================] - 0s 9ms/step - loss: 0.6369 - accuracy: 0.7382 - val_loss: 0.5875 - val_accuracy: 0.8220\n",
            "Epoch 36/60\n",
            "9/9 [==============================] - 0s 10ms/step - loss: 0.6237 - accuracy: 0.7309 - val_loss: 0.5880 - val_accuracy: 0.8136\n",
            "Epoch 37/60\n",
            "9/9 [==============================] - 0s 9ms/step - loss: 0.6201 - accuracy: 0.7200 - val_loss: 0.5701 - val_accuracy: 0.8305\n",
            "Epoch 38/60\n",
            "9/9 [==============================] - 0s 9ms/step - loss: 0.6169 - accuracy: 0.7600 - val_loss: 0.5769 - val_accuracy: 0.8136\n",
            "Epoch 39/60\n",
            "9/9 [==============================] - 0s 8ms/step - loss: 0.6036 - accuracy: 0.7709 - val_loss: 0.5721 - val_accuracy: 0.8220\n",
            "Epoch 40/60\n",
            "9/9 [==============================] - 0s 8ms/step - loss: 0.6075 - accuracy: 0.7564 - val_loss: 0.5653 - val_accuracy: 0.8305\n",
            "Epoch 41/60\n",
            "9/9 [==============================] - 0s 9ms/step - loss: 0.6082 - accuracy: 0.7673 - val_loss: 0.5663 - val_accuracy: 0.8390\n",
            "Epoch 42/60\n",
            "9/9 [==============================] - 0s 11ms/step - loss: 0.5932 - accuracy: 0.7709 - val_loss: 0.5607 - val_accuracy: 0.8220\n",
            "Epoch 43/60\n",
            "9/9 [==============================] - 0s 10ms/step - loss: 0.5843 - accuracy: 0.7636 - val_loss: 0.5521 - val_accuracy: 0.8305\n",
            "Epoch 44/60\n",
            "9/9 [==============================] - 0s 8ms/step - loss: 0.5800 - accuracy: 0.7782 - val_loss: 0.5573 - val_accuracy: 0.8305\n",
            "Epoch 45/60\n",
            "9/9 [==============================] - 0s 8ms/step - loss: 0.5789 - accuracy: 0.7782 - val_loss: 0.5543 - val_accuracy: 0.8305\n",
            "Epoch 46/60\n",
            "9/9 [==============================] - 0s 9ms/step - loss: 0.5726 - accuracy: 0.7855 - val_loss: 0.5516 - val_accuracy: 0.8390\n",
            "Epoch 47/60\n",
            "9/9 [==============================] - 0s 8ms/step - loss: 0.5844 - accuracy: 0.7818 - val_loss: 0.5472 - val_accuracy: 0.8305\n",
            "Epoch 48/60\n",
            "9/9 [==============================] - 0s 9ms/step - loss: 0.5754 - accuracy: 0.7855 - val_loss: 0.5424 - val_accuracy: 0.8305\n",
            "Epoch 49/60\n",
            "9/9 [==============================] - 0s 8ms/step - loss: 0.5525 - accuracy: 0.7855 - val_loss: 0.5415 - val_accuracy: 0.8305\n",
            "Epoch 50/60\n",
            "9/9 [==============================] - 0s 8ms/step - loss: 0.5465 - accuracy: 0.8073 - val_loss: 0.5486 - val_accuracy: 0.8051\n",
            "Epoch 51/60\n",
            "9/9 [==============================] - 0s 8ms/step - loss: 0.5424 - accuracy: 0.8145 - val_loss: 0.5371 - val_accuracy: 0.8220\n",
            "Epoch 52/60\n",
            "9/9 [==============================] - 0s 8ms/step - loss: 0.5445 - accuracy: 0.7927 - val_loss: 0.5394 - val_accuracy: 0.8390\n",
            "Epoch 53/60\n",
            "9/9 [==============================] - 0s 10ms/step - loss: 0.5401 - accuracy: 0.7855 - val_loss: 0.5292 - val_accuracy: 0.8390\n",
            "Epoch 54/60\n",
            "9/9 [==============================] - 0s 10ms/step - loss: 0.5332 - accuracy: 0.8255 - val_loss: 0.5367 - val_accuracy: 0.8220\n",
            "Epoch 55/60\n",
            "9/9 [==============================] - 0s 13ms/step - loss: 0.5215 - accuracy: 0.8218 - val_loss: 0.5314 - val_accuracy: 0.8136\n",
            "Epoch 56/60\n",
            "9/9 [==============================] - 0s 8ms/step - loss: 0.5211 - accuracy: 0.8145 - val_loss: 0.5287 - val_accuracy: 0.8220\n",
            "Epoch 57/60\n",
            "9/9 [==============================] - 0s 8ms/step - loss: 0.5150 - accuracy: 0.8255 - val_loss: 0.5341 - val_accuracy: 0.8305\n",
            "Epoch 58/60\n",
            "9/9 [==============================] - 0s 9ms/step - loss: 0.5129 - accuracy: 0.8327 - val_loss: 0.5252 - val_accuracy: 0.8305\n",
            "Epoch 59/60\n",
            "9/9 [==============================] - 0s 9ms/step - loss: 0.5021 - accuracy: 0.8327 - val_loss: 0.5366 - val_accuracy: 0.8305\n",
            "Epoch 60/60\n",
            "9/9 [==============================] - 0s 10ms/step - loss: 0.4958 - accuracy: 0.8400 - val_loss: 0.5201 - val_accuracy: 0.8390\n"
          ]
        }
      ]
    },
    {
      "cell_type": "code",
      "metadata": {
        "id": "gbgou9cdkUtG",
        "colab": {
          "base_uri": "https://localhost:8080/"
        },
        "outputId": "3e460205-afa3-49a2-fb1c-fcb5c91b5540"
      },
      "source": [
        "ann.evaluate(X_test,y_test)"
      ],
      "execution_count": 137,
      "outputs": [
        {
          "output_type": "stream",
          "name": "stdout",
          "text": [
            "4/4 [==============================] - 0s 4ms/step - loss: 0.5201 - accuracy: 0.8390\n"
          ]
        },
        {
          "output_type": "execute_result",
          "data": {
            "text/plain": [
              "[0.5201317667961121, 0.8389830589294434]"
            ]
          },
          "metadata": {},
          "execution_count": 137
        }
      ]
    },
    {
      "cell_type": "code",
      "metadata": {
        "id": "h-R9c9Xrxy5R",
        "colab": {
          "base_uri": "https://localhost:8080/",
          "height": 602
        },
        "outputId": "b7b1c37a-e0a4-434a-efc8-1cdc1a7a03d2"
      },
      "source": [
        "print(history.history.keys())\n",
        "plt.figure()\n",
        "plt.title('model accuracy')\n",
        "plt.plot(history.history['accuracy'])\n",
        "plt.plot(history.history['val_accuracy'])\n",
        "plt.ylabel('accuracy')\n",
        "plt.xlabel('epoch')\n",
        "plt.legend(['train', 'test'], loc='upper left')\n",
        "plt.show()\n",
        "plt.figure()\n",
        "plt.plot(history.history['loss'])\n",
        "plt.plot(history.history['val_loss'])\n",
        "plt.title('model loss')\n",
        "plt.ylabel('loss')\n",
        "plt.xlabel('epoch')\n",
        "plt.legend(['train', 'test'], loc='upper right')\n",
        "plt.show()"
      ],
      "execution_count": 138,
      "outputs": [
        {
          "output_type": "stream",
          "name": "stdout",
          "text": [
            "dict_keys(['loss', 'accuracy', 'val_loss', 'val_accuracy'])\n"
          ]
        },
        {
          "output_type": "display_data",
          "data": {
            "image/png": "[encoded data removed]",
            "text/plain": [
              "<Figure size 432x288 with 1 Axes>"
            ]
          },
          "metadata": {}
        },
        {
          "output_type": "display_data",
          "data": {
            "image/png": "[encoded data removed]",
            "text/plain": [
              "<Figure size 432x288 with 1 Axes>"
            ]
          },
          "metadata": {}
        }
      ]
    },
    {
      "cell_type": "code",
      "metadata": {
        "id": "tl7GGo22yX_t"
      },
      "source": [
        "prediction=ann.predict(X_test)"
      ],
      "execution_count": 139,
      "outputs": []
    },
    {
      "cell_type": "code",
      "metadata": {
        "colab": {
          "base_uri": "https://localhost:8080/",
          "height": 286
        },
        "id": "SJPSTzL1yS-8",
        "outputId": "81a506a8-8357-4d8e-b547-8375d9f8d37f"
      },
      "source": [
        "ypred=np.argmax(prediction,axis=1)\n",
        "cf_matrix=confusion_matrix(y_test, ypred,labels=None, sample_weight=None, normalize=None)\n",
        "sns.heatmap(cf_matrix, annot=True)"
      ],
      "execution_count": 140,
      "outputs": [
        {
          "output_type": "execute_result",
          "data": {
            "text/plain": [
              "<matplotlib.axes._subplots.AxesSubplot at 0x7f8351438490>"
            ]
          },
          "metadata": {},
          "execution_count": 140
        },
        {
          "output_type": "display_data",
          "data": {
            "image/png": "[encoded data removed]",
            "text/plain": [
              "<Figure size 432x288 with 2 Axes>"
            ]
          },
          "metadata": {}
        }
      ]
    },
    {
      "cell_type": "markdown",
      "metadata": {
        "id": "8Sx6iAhtLbzR"
      },
      "source": [
        "*italicized text*"
      ]
    }
  ]
}